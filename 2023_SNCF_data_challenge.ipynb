{
 "cells": [
  {
   "cell_type": "code",
   "execution_count": 48,
   "id": "initial_id",
   "metadata": {
    "collapsed": true,
    "ExecuteTime": {
     "end_time": "2023-11-12T17:38:08.345992600Z",
     "start_time": "2023-11-12T17:38:08.332470Z"
    }
   },
   "outputs": [],
   "source": [
    "import pandas as pd\n",
    "import numpy as np\n",
    "import sklearn.ensemble\n",
    "from sklearn.preprocessing import LabelEncoder\n",
    "from sklearn.model_selection import train_test_split\n",
    "from lazypredict.Supervised import LazyRegressor\n",
    "from sklearn.metrics import mean_absolute_error\n",
    "import optuna"
   ]
  },
  {
   "cell_type": "markdown",
   "source": [
    "# 1. Data preparation"
   ],
   "metadata": {
    "collapsed": false
   },
   "id": "896fc6b464b7363a"
  },
  {
   "cell_type": "code",
   "execution_count": 49,
   "outputs": [],
   "source": [
    "X_train_orig = pd.read_csv(\"Xtrain_hgcGIrA.csv\", parse_dates=['date'])\n",
    "Y_train_orig = pd.read_csv(\"Ytrain_yL5OjS4.csv\")\n",
    "X_test_orig = pd.read_csv(\"Xtest.csv\", parse_dates=['date'])\n",
    "\n",
    "Xtrain = pd.DataFrame.copy(X_train_orig)\n",
    "Y_train = pd.DataFrame.copy(Y_train_orig)['p0q0']\n",
    "Xtest = pd.DataFrame.copy(X_test_orig)"
   ],
   "metadata": {
    "collapsed": false,
    "ExecuteTime": {
     "end_time": "2023-11-12T17:38:09.699543100Z",
     "start_time": "2023-11-12T17:38:09.536130Z"
    }
   },
   "id": "5696407be831447f"
  },
  {
   "cell_type": "code",
   "execution_count": 50,
   "outputs": [],
   "source": [
    "def data_label(X, X_test):\n",
    "    X['day'] = X['date'].dt.weekday\n",
    "    X_test['day'] = X_test['date'].dt.weekday\n",
    "\n",
    "    # if hour = NA, then hour_id = -1\n",
    "    X['hour_id'] = X['hour'].fillna(-1)\n",
    "    X_test['hour_id'] = X_test['hour'].fillna(-1)\n",
    "    \n",
    "    le_1 = LabelEncoder()\n",
    "    le_1.fit(list(X['hour']) + list(X_test['hour']))\n",
    "    choose_not_na = (X['hour_id'] != -1)\n",
    "    X.loc[choose_not_na, 'hour_id'] = le_1.transform(X.loc[choose_not_na, 'hour'])\n",
    "    choose_not_na_t = (X_test['hour_id'] != -1)\n",
    "    X_test.loc[choose_not_na_t, 'hour_id'] = le_1.transform(X_test.loc[choose_not_na_t, 'hour'])\n",
    "     \n",
    "    le_2 = LabelEncoder()\n",
    "    le_2.fit(list(X['station']) + list(X_test['station']))\n",
    "    X['station_id'] = le_2.transform(X['station'])\n",
    "    X_test['station_id'] = le_2.transform(X_test['station'])\n",
    "\n",
    "    return X, X_test"
   ],
   "metadata": {
    "collapsed": false,
    "ExecuteTime": {
     "end_time": "2023-11-12T17:38:10.099854500Z",
     "start_time": "2023-11-12T17:38:10.093397600Z"
    }
   },
   "id": "3808a2bb2465a26d"
  },
  {
   "cell_type": "code",
   "execution_count": 51,
   "outputs": [],
   "source": [
    "def data_drop(X, X_test):\n",
    "    cols_to_keep = ['p1q0', 'p2q0', 'p3q0', 'p0q1', 'p0q2', 'p0q3', 'hour_id', 'station_id', 'train', 'day']\n",
    "    X_drop = X.loc[:, cols_to_keep]\n",
    "    X_drop_test = X_test.loc[:, cols_to_keep]\n",
    "    \n",
    "    return X_drop, X_drop_test"
   ],
   "metadata": {
    "collapsed": false,
    "ExecuteTime": {
     "end_time": "2023-11-12T17:38:10.640087200Z",
     "start_time": "2023-11-12T17:38:10.616933800Z"
    }
   },
   "id": "3c41be8386d5ea9c"
  },
  {
   "cell_type": "code",
   "execution_count": 52,
   "outputs": [],
   "source": [
    "def na_lag_0(X, X_test):\n",
    "    X_imput = X.fillna(0)\n",
    "    X_imput_test = X_test.fillna(0)\n",
    "    \n",
    "    return X_imput, X_imput_test"
   ],
   "metadata": {
    "collapsed": false,
    "ExecuteTime": {
     "end_time": "2023-11-12T17:38:11.276308600Z",
     "start_time": "2023-11-12T17:38:11.265833400Z"
    }
   },
   "id": "449f40aa095190b7"
  },
  {
   "cell_type": "code",
   "execution_count": 53,
   "outputs": [],
   "source": [
    "X_train, X_test = na_lag_0(*data_drop(*data_label(Xtrain, Xtest)))"
   ],
   "metadata": {
    "collapsed": false,
    "ExecuteTime": {
     "end_time": "2023-11-12T17:38:12.353261900Z",
     "start_time": "2023-11-12T17:38:12.225843600Z"
    }
   },
   "id": "fb6efc1f58daf19"
  },
  {
   "cell_type": "markdown",
   "source": [
    "# 2. Model selection"
   ],
   "metadata": {
    "collapsed": false
   },
   "id": "32942cc1051e5a9a"
  },
  {
   "cell_type": "code",
   "execution_count": 54,
   "outputs": [],
   "source": [
    "x_train, x_val, y_train, y_val = train_test_split(X_train, Y_train, random_state=26, test_size=0.2)"
   ],
   "metadata": {
    "collapsed": false,
    "ExecuteTime": {
     "end_time": "2023-11-12T17:38:13.527242600Z",
     "start_time": "2023-11-12T17:38:13.515731500Z"
    }
   },
   "id": "6c32604ec9a0945c"
  },
  {
   "cell_type": "code",
   "execution_count": null,
   "outputs": [],
   "source": [
    "reg = LazyRegressor(verbose=0, ignore_warnings=False, custom_metric=mean_absolute_error)\n",
    "models, predictions = reg.fit(x_train, x_val, y_train, y_val)"
   ],
   "metadata": {
    "collapsed": false
   },
   "id": "398b7d6e4fed7832"
  },
  {
   "cell_type": "code",
   "execution_count": 57,
   "outputs": [
    {
     "name": "stdout",
     "output_type": "stream",
     "text": [
      "                       mean_absolute_error  RMSE  Adjusted R-Squared\n",
      "Model                                                               \n",
      "ExtraTreesRegressor                   0.01  0.02                0.99\n",
      "RandomForestRegressor                 0.01  0.02                0.99\n"
     ]
    }
   ],
   "source": [
    "print(models.loc[pd.to_numeric(models['mean_absolute_error']) < 0.011, ['mean_absolute_error', 'RMSE', 'Adjusted R-Squared']].sort_values(by='mean_absolute_error'))"
   ],
   "metadata": {
    "collapsed": false,
    "ExecuteTime": {
     "end_time": "2023-11-12T17:45:29.216812600Z",
     "start_time": "2023-11-12T17:45:29.199100200Z"
    }
   },
   "id": "239e1d872b77352f"
  },
  {
   "cell_type": "markdown",
   "source": [
    "# 3. Optimisation"
   ],
   "metadata": {
    "collapsed": false
   },
   "id": "829bf43a9eb8a3ff"
  },
  {
   "cell_type": "code",
   "execution_count": 63,
   "outputs": [],
   "source": [
    "def objective(trial):\n",
    "    x_train, x_val, y_train, y_val = train_test_split(X_train, Y_train, random_state=26, test_size=0.2)\n",
    "    \n",
    "    n_estimators = trial.suggest_int(\"n_estimators\", 500, 3000, step=500)\n",
    "    min_samples_split = trial.suggest_int(\"min_samples_split\", 2, 15, step=1)\n",
    "    \n",
    "    reg = sklearn.ensemble.ExtraTreesRegressor(n_estimators=n_estimators, min_samples_split=min_samples_split, n_jobs=-1, random_state=26).fit(x_train, y_train)\n",
    "    \n",
    "    y_pred = reg.predict(x_val)\n",
    "\n",
    "    return np.abs(y_pred - y_val).mean()"
   ],
   "metadata": {
    "collapsed": false,
    "ExecuteTime": {
     "end_time": "2023-11-12T18:10:47.033357500Z",
     "start_time": "2023-11-12T18:10:47.018337100Z"
    }
   },
   "id": "83887a54682b0c5b"
  },
  {
   "cell_type": "code",
   "execution_count": null,
   "outputs": [],
   "source": [
    "study = optuna.create_study()\n",
    "study.optimize(objective, n_trials=50)"
   ],
   "metadata": {
    "collapsed": false
   },
   "id": "17593bdc599d22e3"
  },
  {
   "cell_type": "code",
   "execution_count": 60,
   "outputs": [
    {
     "name": "stdout",
     "output_type": "stream",
     "text": [
      "{'n_estimators': 3000, 'min_samples_split': 8}\n",
      "0.009852676629771991\n"
     ]
    }
   ],
   "source": [
    "print(study.best_params)\n",
    "print(study.best_value)"
   ],
   "metadata": {
    "collapsed": false,
    "ExecuteTime": {
     "end_time": "2023-11-12T18:07:50.411245Z",
     "start_time": "2023-11-12T18:07:50.410244700Z"
    }
   },
   "id": "aa3c28e6c494660"
  },
  {
   "cell_type": "markdown",
   "source": [
    "# 4. Result"
   ],
   "metadata": {
    "collapsed": false
   },
   "id": "a857d7d6f69a395f"
  },
  {
   "cell_type": "code",
   "execution_count": 69,
   "outputs": [
    {
     "data": {
      "text/plain": "array([0.2421138 , 0.23728241, 0.24400864, ..., 0.1058166 , 0.15369956,\n       0.11229617])"
     },
     "execution_count": 69,
     "metadata": {},
     "output_type": "execute_result"
    }
   ],
   "source": [
    "model = sklearn.ensemble.ExtraTreesRegressor(**study.best_params, n_jobs=-1, random_state=26).fit(X_train, Y_train)\n",
    "Y_ = model.predict(X_test)\n",
    "Y_"
   ],
   "metadata": {
    "collapsed": false,
    "ExecuteTime": {
     "end_time": "2023-11-12T18:16:23.877448100Z",
     "start_time": "2023-11-12T18:15:57.250489600Z"
    }
   },
   "id": "ab865eff2bc185b8"
  },
  {
   "cell_type": "code",
   "execution_count": 70,
   "outputs": [],
   "source": [
    "result = pd.DataFrame(data={'p0q0': list(Y_)})\n",
    "result[\"\"] = range(1, len(Y_) + 1)\n",
    "result.to_csv('Y_3000_8.csv', header=True, index=False, columns=['', 'p0q0'])"
   ],
   "metadata": {
    "collapsed": false,
    "ExecuteTime": {
     "end_time": "2023-11-12T18:17:52.135116100Z",
     "start_time": "2023-11-12T18:17:52.043854Z"
    }
   },
   "id": "52486aa33e83ee3f"
  }
 ],
 "metadata": {
  "kernelspec": {
   "display_name": "Python 3",
   "language": "python",
   "name": "python3"
  },
  "language_info": {
   "codemirror_mode": {
    "name": "ipython",
    "version": 2
   },
   "file_extension": ".py",
   "mimetype": "text/x-python",
   "name": "python",
   "nbconvert_exporter": "python",
   "pygments_lexer": "ipython2",
   "version": "2.7.6"
  }
 },
 "nbformat": 4,
 "nbformat_minor": 5
}
